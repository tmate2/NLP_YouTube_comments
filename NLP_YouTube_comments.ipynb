{
  "nbformat": 4,
  "nbformat_minor": 0,
  "metadata": {
    "colab": {
      "provenance": [],
      "authorship_tag": "ABX9TyP84bmcYaInnOn2Pi3K8CH4",
      "include_colab_link": true
    },
    "kernelspec": {
      "name": "python3",
      "display_name": "Python 3"
    },
    "language_info": {
      "name": "python"
    }
  },
  "cells": [
    {
      "cell_type": "markdown",
      "metadata": {
        "id": "view-in-github",
        "colab_type": "text"
      },
      "source": [
        "<a href=\"https://colab.research.google.com/github/tmate2/NLP_YouTube_comments/blob/master/NLP_YouTube_comments.ipynb\" target=\"_parent\"><img src=\"https://colab.research.google.com/assets/colab-badge.svg\" alt=\"Open In Colab\"/></a>"
      ]
    },
    {
      "cell_type": "markdown",
      "source": [
        "## Google API telepítése és a kliens inicializálása:"
      ],
      "metadata": {
        "id": "NBGCeLYv214T"
      }
    },
    {
      "cell_type": "code",
      "execution_count": null,
      "metadata": {
        "id": "kwCf4yAqz8Db"
      },
      "outputs": [],
      "source": [
        "! pip install google-api-python-client"
      ]
    },
    {
      "cell_type": "code",
      "source": [
        "from googleapiclient.discovery import build\n",
        "import pandas as pd\n",
        "\n",
        "\n",
        "API_KEY =\"api-key\"\n",
        "\n",
        "VIDEO_ID = \"dQw4w9WgXcQ\"\n",
        "\n",
        "youtube = build(\"youtube\", \"v3\", developerKey=API_KEY)"
      ],
      "metadata": {
        "id": "WJZpTtvD0DcS"
      },
      "execution_count": 10,
      "outputs": []
    },
    {
      "cell_type": "markdown",
      "source": [
        "## YouTube kommentek letöltés"
      ],
      "metadata": {
        "id": "c_Tk2wBwUseN"
      }
    },
    {
      "cell_type": "code",
      "source": [
        "def get_comments(video_id, max_comments=500):\n",
        "    comments = []\n",
        "    next_page_token = None\n",
        "\n",
        "    while len(comments) < max_comments:\n",
        "        request = youtube.commentThreads().list(\n",
        "            part=\"snippet\",\n",
        "            videoId=video_id,\n",
        "            maxResults=100,\n",
        "            pageToken=next_page_token\n",
        "        )\n",
        "        response = request.execute()\n",
        "\n",
        "        for item in response[\"items\"]:\n",
        "            comment = item[\"snippet\"][\"topLevelComment\"][\"snippet\"][\"textDisplay\"]\n",
        "            comments.append(comment)\n",
        "\n",
        "        next_page_token = response.get(\"nextPageToken\")\n",
        "\n",
        "        if not next_page_token:\n",
        "            break\n",
        "    if len(comments) > max_comments:\n",
        "        return comments[:max_comments]\n",
        "\n",
        "    return comments\n",
        "\n",
        "\n",
        "df_comments = pd.DataFrame()\n",
        "df_comments[\"comment\"] = get_comments(VIDEO_ID, max_comments=200)"
      ],
      "metadata": {
        "id": "3yZu9aWC0j93"
      },
      "execution_count": 11,
      "outputs": []
    },
    {
      "cell_type": "markdown",
      "source": [
        "## Szövegtisztítás"
      ],
      "metadata": {
        "id": "G0gq4k7EU-Bf"
      }
    },
    {
      "cell_type": "code",
      "source": [
        "from bs4 import BeautifulSoup"
      ],
      "metadata": {
        "id": "bieaU5ewShyC"
      },
      "execution_count": 278,
      "outputs": []
    },
    {
      "cell_type": "markdown",
      "source": [
        "1. HTML tagek eltávolítása a BeautifulSoup segítségével:"
      ],
      "metadata": {
        "id": "-Ydhj0y5VEKM"
      }
    },
    {
      "cell_type": "code",
      "source": [
        "def remove_html_tags(text):\n",
        "    soup = BeautifulSoup(text, \"html.parser\")\n",
        "    return soup.get_text()\n",
        "\n",
        "\n",
        "df_comments[\"comment\"] = df_comments[\"comment\"].apply(remove_html_tags)"
      ],
      "metadata": {
        "id": "fp4hpnYHSpyV"
      },
      "execution_count": 279,
      "outputs": []
    },
    {
      "cell_type": "markdown",
      "source": [
        "2. Emojik eltávolítása:"
      ],
      "metadata": {
        "id": "RuzxIbZaVOXe"
      }
    },
    {
      "cell_type": "code",
      "source": [
        "! pip install emoji"
      ],
      "metadata": {
        "id": "BZUnowIHSvQV"
      },
      "execution_count": null,
      "outputs": []
    },
    {
      "cell_type": "code",
      "source": [
        "import emoji\n",
        "\n",
        "\n",
        "def remove_emojis(text):\n",
        "    return emoji.replace_emoji(text, replace='')\n",
        "\n",
        "\n",
        "df_comments[\"comment\"] = df_comments[\"comment\"].apply(remove_emojis)"
      ],
      "metadata": {
        "id": "iZC3DV47S0_n"
      },
      "execution_count": 280,
      "outputs": []
    },
    {
      "cell_type": "markdown",
      "source": [
        "#### 3. Extra whitespace karakterek eltávolítása:"
      ],
      "metadata": {
        "id": "TKEvb55kNLXR"
      }
    },
    {
      "cell_type": "code",
      "source": [
        "def remove_extra_whitespace(text):\n",
        "    text = text.strip()\n",
        "    text = \" \".join(text.split())\n",
        "    return text\n",
        "\n",
        "\n",
        "df_comments[\"comment\"] = df_comments[\"comment\"].apply(remove_extra_whitespace)"
      ],
      "metadata": {
        "id": "UjwpTjqpNEtJ"
      },
      "execution_count": 281,
      "outputs": []
    },
    {
      "cell_type": "markdown",
      "source": [
        "#### 4. Linkek eltávolítása:"
      ],
      "metadata": {
        "id": "lPeUbwZ8NR4r"
      }
    },
    {
      "cell_type": "code",
      "source": [
        "def remove_links(text):\n",
        "    text_list = text.split(\" \")\n",
        "    text_list = [word for word in text_list if not word.startswith(\"http\")]\n",
        "    text = \" \".join(text_list)\n",
        "    return text\n",
        "\n",
        "\n",
        "df_comments[\"comment\"] = df_comments[\"comment\"].apply(remove_links)"
      ],
      "metadata": {
        "id": "Yz_skW2ZM1J_"
      },
      "execution_count": 282,
      "outputs": []
    },
    {
      "cell_type": "code",
      "source": [
        "def remove_special_chars(text):\n",
        "    denied_chars = \"\\\"'<>#&@{}*:_÷~ˇ^§°/=`˙´˝¨¸|\\\\\"\n",
        "    return ''.join(char for char in text if not char in denied_chars)\n",
        "\n",
        "\n",
        "df_comments[\"comment\"] = df_comments[\"comment\"].apply(remove_special_chars)"
      ],
      "metadata": {
        "id": "rpRidIOUR9z0"
      },
      "execution_count": 283,
      "outputs": []
    },
    {
      "cell_type": "markdown",
      "source": [
        "5. Tisztítás során keletkezett üres sorok törlése:"
      ],
      "metadata": {
        "id": "j1il6B77VVMs"
      }
    },
    {
      "cell_type": "code",
      "source": [
        "import numpy as np\n",
        "\n",
        "\n",
        "def remove_empty_lines(df, column):\n",
        "    df = df[df[column].astype(str).str.strip() != \"\"]\n",
        "    df = df.replace(np.nan, '', regex=True)\n",
        "    df = df[df[column] != '']\n",
        "    return df\n",
        "\n",
        "\n",
        "df_comments = remove_empty_lines(df_comments, \"comment\")"
      ],
      "metadata": {
        "id": "ysB8FAULS8go"
      },
      "execution_count": 284,
      "outputs": []
    },
    {
      "cell_type": "code",
      "source": [
        "len(df_comments)"
      ],
      "metadata": {
        "id": "vZV-pagGN0Qi"
      },
      "execution_count": null,
      "outputs": []
    },
    {
      "cell_type": "markdown",
      "source": [
        "## Kommentek fordítása"
      ],
      "metadata": {
        "id": "3C2Cb4W-Vdxr"
      }
    },
    {
      "cell_type": "code",
      "source": [
        "! pip install transformers"
      ],
      "metadata": {
        "id": "WJi8oMA24H-j"
      },
      "execution_count": null,
      "outputs": []
    },
    {
      "cell_type": "code",
      "source": [
        "from transformers import pipeline\n",
        "from transformers import AutoTokenizer\n",
        "\n",
        "\n",
        "model_name = \"Helsinki-NLP/opus-mt-mul-en\"\n",
        "MAX_LENGTH = 512\n",
        "\n",
        "tokenizer = AutoTokenizer.from_pretrained(model_name)\n",
        "translator = pipeline(\"translation\", model=model_name)"
      ],
      "metadata": {
        "id": "4NtCBnLF2lbm",
        "collapsed": true
      },
      "execution_count": null,
      "outputs": []
    },
    {
      "cell_type": "markdown",
      "source": [
        "#### Fordítás előszűrése:"
      ],
      "metadata": {
        "id": "mFA9eQDBrABB"
      }
    },
    {
      "cell_type": "code",
      "source": [
        "def filter_comments_by_length(df, column, tokenizer, max_length):\n",
        "    filtered_df = df.copy()\n",
        "    indices_to_drop = []\n",
        "\n",
        "    for index, row in df.iterrows():\n",
        "        comment = row[column]\n",
        "        tokens = tokenizer(comment)['input_ids']\n",
        "        if len(tokens) > max_length:\n",
        "            indices_to_drop.append(index)\n",
        "\n",
        "    filtered_df = filtered_df.drop(indices_to_drop)\n",
        "    return filtered_df\n",
        "\n",
        "\n",
        "df_comments = filter_comments_by_length(df_comments, \"comment\", tokenizer, MAX_LENGTH)"
      ],
      "metadata": {
        "id": "tYiSbx_So8ZD"
      },
      "execution_count": 287,
      "outputs": []
    },
    {
      "cell_type": "markdown",
      "source": [
        "#### A fordító:"
      ],
      "metadata": {
        "id": "kM9G1k1CrVU3"
      }
    },
    {
      "cell_type": "code",
      "source": [
        "def translate_to_english(text):\n",
        "    try:\n",
        "        translation = translator(text, max_length=MAX_LENGTH)\n",
        "        translated_text = translation[0][\"translation_text\"]\n",
        "        return translated_text\n",
        "    except Exception as e:\n",
        "        return \"\""
      ],
      "metadata": {
        "id": "UFvbVY2X4VQV"
      },
      "execution_count": 248,
      "outputs": []
    },
    {
      "cell_type": "markdown",
      "source": [
        "##### A fordító pipline tesztelése:"
      ],
      "metadata": {
        "id": "7O_kAoJGmG7k"
      }
    },
    {
      "cell_type": "code",
      "source": [
        "texts = [\n",
        "    \"Hi, how are you?\",\n",
        "    \"My name is John Doe\",\n",
        "    \"Szia, hogy vagy?\",\n",
        "    \"Hola, ¿cómo estás?\",       # Spanyol\n",
        "    \"Bonjour, comment ça va?\",  # Francia\n",
        "    \"Hallo, wie geht es dir?\",  # Német\n",
        "]\n",
        "\n",
        "\n",
        "for text in texts:\n",
        "    english_translation = translate_to_english(text)\n",
        "    print(f\"Original: {text}\")\n",
        "    print(f\"Translated: {english_translation}\\n\")"
      ],
      "metadata": {
        "id": "skAKIlpe5gTo"
      },
      "execution_count": null,
      "outputs": []
    },
    {
      "cell_type": "markdown",
      "source": [
        "### Forditás végrehajtása:"
      ],
      "metadata": {
        "id": "ATGjDFR94TgX"
      }
    },
    {
      "cell_type": "code",
      "source": [
        "from tqdm import tqdm\n",
        "\n",
        "tqdm.pandas()\n",
        "\n",
        "df_comments[\"translated_comment\"] = df_comments[\"comment\"].progress_apply(translate_to_english)"
      ],
      "metadata": {
        "id": "S_0GzWsI6_or"
      },
      "execution_count": null,
      "outputs": []
    },
    {
      "cell_type": "markdown",
      "source": [
        "#### Üres sorok törlése:"
      ],
      "metadata": {
        "id": "RgzqIwQubQhZ"
      }
    },
    {
      "cell_type": "code",
      "source": [
        "df_comments = remove_empty_lines(df_comments, \"translated_comment\")"
      ],
      "metadata": {
        "id": "-aW0dkZLET3m"
      },
      "execution_count": 291,
      "outputs": []
    },
    {
      "cell_type": "markdown",
      "source": [
        "## Sentiment analízis"
      ],
      "metadata": {
        "id": "EnYg1FInrj-Y"
      }
    },
    {
      "cell_type": "code",
      "source": [
        "sentiment_analysis = pipeline(\"sentiment-analysis\")"
      ],
      "metadata": {
        "id": "WCnsSBxO_Iy9"
      },
      "execution_count": null,
      "outputs": []
    },
    {
      "cell_type": "code",
      "source": [
        "df_comments[\"sentiment\"] = df_comments[\"translated_comment\"].apply(lambda x: sentiment_analysis(x)[0]['label'])"
      ],
      "metadata": {
        "id": "pfQgZkmKAbRg"
      },
      "execution_count": 306,
      "outputs": []
    },
    {
      "cell_type": "code",
      "source": [
        "count_positive = (df_comments['sentiment'] == 'POSITIVE').sum()\n",
        "count_negative = (df_comments['sentiment'] == 'NEGATIVE').sum()\n",
        "\n",
        "all = len(df_comments)\n",
        "\n",
        "print(f\"Positive count: {count_positive}/{all}\")\n",
        "print(f\"Negative count: {count_negative}/{all}\")"
      ],
      "metadata": {
        "id": "fLdpLxInBAkY"
      },
      "execution_count": null,
      "outputs": []
    }
  ]
}